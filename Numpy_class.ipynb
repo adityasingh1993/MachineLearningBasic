{
  "nbformat": 4,
  "nbformat_minor": 0,
  "metadata": {
    "colab": {
      "name": "Copy of Numpy_class.ipynb",
      "provenance": [],
      "collapsed_sections": [],
      "toc_visible": true,
      "include_colab_link": true
    },
    "kernelspec": {
      "name": "python3",
      "display_name": "Python 3"
    }
  },
  "cells": [
    {
      "cell_type": "markdown",
      "metadata": {
        "id": "view-in-github",
        "colab_type": "text"
      },
      "source": [
        "<a href=\"https://colab.research.google.com/github/adityasingh1993/MachineLearningBasic/blob/master/Numpy_class.ipynb\" target=\"_parent\"><img src=\"https://colab.research.google.com/assets/colab-badge.svg\" alt=\"Open In Colab\"/></a>"
      ]
    },
    {
      "cell_type": "markdown",
      "metadata": {
        "id": "bVTRJaAyzsVC"
      },
      "source": [
        "Numpy is the most basic and a powerful package for working with data in python.\n",
        "Because other packages for data analysis (like pandas) is built on top of numpy and the scikit-learn package which is used to build machine learning applications works heavily with numpy as well.NumPy is a linear algebra library for Python\n",
        "\n",
        "At the core, numpy provides the excellent ndarray objects, short for n-dimensional arrays.\n"
      ]
    },
    {
      "cell_type": "markdown",
      "metadata": {
        "id": "wYuSNcZrziA0"
      },
      "source": [
        "1.Arrays support vectorised operations, while lists don’t.\n",
        "\n",
        "2.Once an array is created, you cannot change its size. You will have to create a new array or overwrite the existing one.\n",
        "\n",
        "3.Every array has one and only one dtype. All items in it should be of that dtype.\n",
        "\n",
        "4.An equivalent numpy array occupies much less space than a python list of lists"
      ]
    },
    {
      "cell_type": "code",
      "metadata": {
        "id": "X3tySEnHmhHT",
        "colab": {
          "base_uri": "https://localhost:8080/"
        },
        "outputId": "518393a0-76d9-4e11-b6ec-3d66cc08b940"
      },
      "source": [
        "! wget https://www.thesprucepets.com/thmb/aB6Dj_ZD9iulkqn7wzFynzFuz5Q=/960x0/filters:no_upscale():max_bytes(150000):strip_icc():format(webp)/horse-galloping-in-grass-688899769-587673275f9b584db3a44cdf.jpg"
      ],
      "execution_count": null,
      "outputs": [
        {
          "output_type": "stream",
          "text": [
            "/bin/bash: -c: line 0: syntax error near unexpected token `('\n",
            "/bin/bash: -c: line 0: ` wget https://www.thesprucepets.com/thmb/aB6Dj_ZD9iulkqn7wzFynzFuz5Q=/960x0/filters:no_upscale():max_bytes(150000):strip_icc():format(webp)/horse-galloping-in-grass-688899769-587673275f9b584db3a44cdf.jpg'\n"
          ],
          "name": "stdout"
        }
      ]
    },
    {
      "cell_type": "markdown",
      "metadata": {
        "id": "9isWO0bPh0PW"
      },
      "source": [
        "#How to create a numpy array?"
      ]
    },
    {
      "cell_type": "markdown",
      "metadata": {
        "id": "r0XjO04Lew7D"
      },
      "source": [
        "# New Section"
      ]
    },
    {
      "cell_type": "code",
      "metadata": {
        "id": "dj2jMVvZe85X",
        "colab": {
          "base_uri": "https://localhost:8080/"
        },
        "outputId": "9e20aa5f-7f51-423b-f76a-6b4ffb6814dd"
      },
      "source": [
        "import numpy as np\n",
        "list1 = [0,1,2,3,4]\n",
        "arr1d = np.array(list1)\n",
        "\n",
        "# Print the array and its type\n",
        "print(type(arr1d))\n",
        "arr1d"
      ],
      "execution_count": null,
      "outputs": [
        {
          "output_type": "stream",
          "text": [
            "<class 'numpy.ndarray'>\n"
          ],
          "name": "stdout"
        },
        {
          "output_type": "execute_result",
          "data": {
            "text/plain": [
              "array([0, 1, 2, 3, 4])"
            ]
          },
          "metadata": {
            "tags": []
          },
          "execution_count": 2
        }
      ]
    },
    {
      "cell_type": "code",
      "metadata": {
        "colab": {
          "base_uri": "https://localhost:8080/"
        },
        "id": "8oERS62nmh9K",
        "outputId": "f0f62fc1-ff21-49e9-c8cc-4f270c368103"
      },
      "source": [
        "np.array(1).shape"
      ],
      "execution_count": null,
      "outputs": [
        {
          "output_type": "execute_result",
          "data": {
            "text/plain": [
              "()"
            ]
          },
          "metadata": {
            "tags": []
          },
          "execution_count": 6
        }
      ]
    },
    {
      "cell_type": "code",
      "metadata": {
        "id": "YtsUDunKioWw",
        "colab": {
          "base_uri": "https://localhost:8080/",
          "height": 69
        },
        "outputId": "b85f7ade-ec6a-46d0-9020-65eb4b00bce7"
      },
      "source": [
        "# Create a 2d array from a list of lists\n",
        "\n",
        "list2 = [[0,1,2], [3,4,5], [6,7,8]]\n",
        "arr2d = np.array(list2)\n",
        "\n",
        "print(arr2d)"
      ],
      "execution_count": null,
      "outputs": [
        {
          "output_type": "stream",
          "text": [
            "[[0 1 2]\n",
            " [3 4 5]\n",
            " [6 7 8]]\n"
          ],
          "name": "stdout"
        }
      ]
    },
    {
      "cell_type": "code",
      "metadata": {
        "id": "NTVDbdWRR_-W",
        "colab": {
          "base_uri": "https://localhost:8080/",
          "height": 52
        },
        "outputId": "2ed8080e-b139-441e-d295-e4957b86ae5c"
      },
      "source": [
        "#numpy.zeros(shape, dtype=float )\n",
        "array3 = np.zeros((2,3)) #array of zeroes 2 rows long by 3 columns wide\n",
        "print(array3)"
      ],
      "execution_count": null,
      "outputs": [
        {
          "output_type": "stream",
          "text": [
            "[[0. 0. 0.]\n",
            " [0. 0. 0.]]\n"
          ],
          "name": "stdout"
        }
      ]
    },
    {
      "cell_type": "code",
      "metadata": {
        "id": "nRPYmQtnSF3B",
        "colab": {
          "base_uri": "https://localhost:8080/",
          "height": 54
        },
        "outputId": "90b6e220-3049-4e88-cd25-cb4e5117f6e3"
      },
      "source": [
        "#numpy.ones(shape, dtype=float )\n",
        "array4 = np.ones((2,2)) #array of ones 2 rows long by 2 columns wide\n",
        "array4"
      ],
      "execution_count": null,
      "outputs": [
        {
          "output_type": "execute_result",
          "data": {
            "text/plain": [
              "array([[1., 1.],\n",
              "       [1., 1.]])"
            ]
          },
          "metadata": {
            "tags": []
          },
          "execution_count": 5
        }
      ]
    },
    {
      "cell_type": "code",
      "metadata": {
        "id": "iwq3zVCgSKuV",
        "colab": {
          "base_uri": "https://localhost:8080/",
          "height": 72
        },
        "outputId": "d99c2420-917d-490c-d6c7-7392691ee066"
      },
      "source": [
        "#numpy.identity(n, dtype=None)\n",
        "#Identity Matrix, A*(inv(A))=I\n",
        "array5 = np.identity(3) #identity matrix with dimension of 3\n",
        "array5"
      ],
      "execution_count": null,
      "outputs": [
        {
          "output_type": "execute_result",
          "data": {
            "text/plain": [
              "array([[1., 0., 0.],\n",
              "       [0., 1., 0.],\n",
              "       [0., 0., 1.]])"
            ]
          },
          "metadata": {
            "tags": []
          },
          "execution_count": 6
        }
      ]
    },
    {
      "cell_type": "code",
      "metadata": {
        "id": "C4-u8n7W093X",
        "colab": {
          "base_uri": "https://localhost:8080/",
          "height": 54
        },
        "outputId": "a92387b6-f1a9-4c97-806c-d77ed15504f0"
      },
      "source": [
        "import numpy as np\n",
        "np.empty((2,3))"
      ],
      "execution_count": null,
      "outputs": [
        {
          "output_type": "execute_result",
          "data": {
            "text/plain": [
              "array([[0., 0., 0.],\n",
              "       [0., 0., 0.]])"
            ]
          },
          "metadata": {
            "tags": []
          },
          "execution_count": 7
        }
      ]
    },
    {
      "cell_type": "code",
      "metadata": {
        "id": "3Zb-bNay1Zow",
        "colab": {
          "base_uri": "https://localhost:8080/",
          "height": 68
        },
        "outputId": "fa6b6c8d-5934-487a-b387-f501a7eb644b"
      },
      "source": [
        "#numpy.full(shape, fill_value, dtype=None)\n",
        "np.full((3,4), 5)"
      ],
      "execution_count": null,
      "outputs": [
        {
          "output_type": "execute_result",
          "data": {
            "text/plain": [
              "array([[5, 5, 5, 5],\n",
              "       [5, 5, 5, 5],\n",
              "       [5, 5, 5, 5]])"
            ]
          },
          "metadata": {
            "tags": []
          },
          "execution_count": 7
        }
      ]
    },
    {
      "cell_type": "code",
      "metadata": {
        "id": "jNofQvq5sYSj"
      },
      "source": [
        "  "
      ],
      "execution_count": null,
      "outputs": []
    },
    {
      "cell_type": "markdown",
      "metadata": {
        "id": "d7TUtFNnpfMc"
      },
      "source": [
        "#How to create sequences, repetitions and random numbers using numpy?"
      ]
    },
    {
      "cell_type": "code",
      "metadata": {
        "id": "da5A4KroplIC",
        "colab": {
          "base_uri": "https://localhost:8080/",
          "height": 35
        },
        "outputId": "f776263b-1358-4615-b03f-b63f6c9ab852"
      },
      "source": [
        "# Lower limit is 0 be default\n",
        "#print(np.arange(2,10))\n",
        "\n",
        "# 0 to 9\n",
        "#print(np.arange(0, 10))  \n",
        "\n",
        "# # 0 to 9 with step of 2\n",
        "print(np.arange(0, 10, 2))  \n",
        "\n",
        "# # 10 to 1, decreasing order\n",
        "#print(np.arange(10, 0, -1))"
      ],
      "execution_count": null,
      "outputs": [
        {
          "output_type": "stream",
          "text": [
            "[0 2 4 6 8]\n"
          ],
          "name": "stdout"
        }
      ]
    },
    {
      "cell_type": "code",
      "metadata": {
        "id": "_ie95HEQp_fe",
        "colab": {
          "base_uri": "https://localhost:8080/"
        },
        "outputId": "ddf08c9f-64f0-4b66-aba6-ea424de44ccf"
      },
      "source": [
        "#Create Repeating Sequence\n",
        "#numpy.tile(A, reps)\n",
        "a = [1,2,3] \n",
        "\n",
        "# Repeat whole of 'a' two times\n",
        "print('Tile:   ', np.tile(a, 2))\n",
        "\n",
        "# Repeat each element of 'a' two times\n",
        "print('Repeat: ', np.repeat(a, 3))"
      ],
      "execution_count": null,
      "outputs": [
        {
          "output_type": "stream",
          "text": [
            "Tile:    [1 2 3 1 2 3]\n",
            "Repeat:  [1 1 1 2 2 2 3 3 3]\n"
          ],
          "name": "stdout"
        }
      ]
    },
    {
      "cell_type": "code",
      "metadata": {
        "id": "r2F5F-MrqNeY",
        "colab": {
          "base_uri": "https://localhost:8080/",
          "height": 35
        },
        "outputId": "318d45d6-1b15-4d7c-9f9e-1d97c2dd71c6"
      },
      "source": [
        "#Generate random numbers\n",
        "\n",
        "# Random numbers between [0,1] of shape 2,2\n",
        "#print(np.random.rand(2,2))\n",
        "\n",
        "#  Normal distribution with mean=0 and variance=1 of shape 2,2\n",
        "#np.random.rand(3,4)\n",
        "\n",
        "# # Random integers between [0, 10) of shape 2,2\n",
        "print(np.random.randint(0, 10,3))\n",
        "\n",
        "# One random number between [0,1)\n",
        "#np.random.randn(3,4)\n",
        "      \n"
      ],
      "execution_count": null,
      "outputs": [
        {
          "output_type": "stream",
          "text": [
            "[9 0 5]\n"
          ],
          "name": "stdout"
        }
      ]
    },
    {
      "cell_type": "code",
      "metadata": {
        "id": "hq0fVh0-Oth3",
        "colab": {
          "base_uri": "https://localhost:8080/",
          "height": 35
        },
        "outputId": "c82cd463-8a72-4afb-e999-85f036d4c120"
      },
      "source": [
        "# Start at 1 and end at 50\n",
        "np.linspace(start=1, stop=50, num=10,dtype=int)"
      ],
      "execution_count": null,
      "outputs": [
        {
          "output_type": "execute_result",
          "data": {
            "text/plain": [
              "array([ 1,  6, 11, 17, 22, 28, 33, 39, 44, 50])"
            ]
          },
          "metadata": {
            "tags": []
          },
          "execution_count": 16
        }
      ]
    },
    {
      "cell_type": "markdown",
      "metadata": {
        "id": "Ho0pQ2mwq5m4"
      },
      "source": [
        "#Creating sample data from data set"
      ]
    },
    {
      "cell_type": "code",
      "metadata": {
        "id": "yqFJvsnWq6JA",
        "colab": {
          "base_uri": "https://localhost:8080/",
          "height": 35
        },
        "outputId": "854f2e23-96f6-439d-901a-3ce2db12eb49"
      },
      "source": [
        "np.random.choice(['a', 'e', 'i', 'o', 'u','u','m'], size=3)\n",
        "\n",
        "# Pick 10 items from a given list with a predefined probability 'p'\n",
        "#print(np.random.choice(['a', 'e', 'i', 'o', 'u','a'], size=3, p=[0.3, .1, 0.1, 0.3, 0.1,.1]))"
      ],
      "execution_count": null,
      "outputs": [
        {
          "output_type": "execute_result",
          "data": {
            "text/plain": [
              "array(['m', 'e', 'o'], dtype='<U1')"
            ]
          },
          "metadata": {
            "tags": []
          },
          "execution_count": 23
        }
      ]
    },
    {
      "cell_type": "code",
      "metadata": {
        "id": "k58tC0torkDZ",
        "colab": {
          "base_uri": "https://localhost:8080/",
          "height": 52
        },
        "outputId": "a70b7619-3e1b-4f41-e92d-be36ea390ae5"
      },
      "source": [
        "# Create the random state(If you want to create same set of random number)\n",
        "\n",
        "rn = np.random.RandomState(30)\n",
        "\n",
        "# Create random numbers between [0,1) of shape 2,2\n",
        "\n",
        "print(rn.rand(2,2))\n",
        "\n",
        "\n",
        "# Set the random seed\n",
        "\n",
        "#np.random.seed(40)\n",
        "\n",
        "# Create random numbers between [0,1) of shape 2,2\n",
        "\n",
        "#print(np.random.rand(2,2))"
      ],
      "execution_count": null,
      "outputs": [
        {
          "output_type": "stream",
          "text": [
            "[[0.64414354 0.38074849]\n",
            " [0.66304791 0.16365073]]\n"
          ],
          "name": "stdout"
        }
      ]
    },
    {
      "cell_type": "code",
      "metadata": {
        "id": "fFJGb_v8r3nd",
        "colab": {
          "base_uri": "https://localhost:8080/",
          "height": 68
        },
        "outputId": "00f86eac-4502-4ec4-8565-0797baaf3d52"
      },
      "source": [
        "#Getting Unique numbers or items\n",
        "# Get the unique items and their counts\n",
        "\n",
        "np.random.seed(100)\n",
        "arr_rand = np.random.randint(0, 10, size=10)\n",
        "print(arr_rand)\n",
        "uniqs, counts = np.unique(arr_rand, return_counts=True)\n",
        "print(\"Unique items : \", uniqs)\n",
        "print(\"Counts       : \", counts)"
      ],
      "execution_count": null,
      "outputs": [
        {
          "output_type": "stream",
          "text": [
            "[8 8 3 7 7 0 4 2 5 2]\n",
            "Unique items :  [0 2 3 4 5 7 8]\n",
            "Counts       :  [1 2 1 1 1 2 2]\n"
          ],
          "name": "stdout"
        }
      ]
    },
    {
      "cell_type": "code",
      "metadata": {
        "id": "15fc3rYwt-LU",
        "colab": {
          "base_uri": "https://localhost:8080/",
          "height": 136
        },
        "outputId": "c641bcde-0997-4bf5-e3f8-cbcc0f9fb4ae"
      },
      "source": [
        "# mean, max and min\n",
        "list2 = [[0,1,2], [3,4,5], [6,7,8]]\n",
        "arr2 = np.array(list2)\n",
        "\n",
        "print(\"Mean value is: \", arr2.mean())\n",
        "print(\"Max value is: \", arr2.max())\n",
        "print(\"Min value is: \", arr2.min())\n",
        "\n",
        "# shape\n",
        "print('Shape: ', arr2.shape)\n",
        "\n",
        "# dtype\n",
        "print('Datatype: ', arr2.dtype)\n",
        "\n",
        "# size\n",
        "print('Size: ', arr2.size)\n",
        "\n",
        "# ndim\n",
        "print('Num Dimensions: ', arr2.ndim)"
      ],
      "execution_count": null,
      "outputs": [
        {
          "output_type": "stream",
          "text": [
            "Mean value is:  4.0\n",
            "Max value is:  8\n",
            "Min value is:  0\n",
            "Shape:  (3, 3)\n",
            "Datatype:  int64\n",
            "Size:  9\n",
            "Num Dimensions:  2\n"
          ],
          "name": "stdout"
        }
      ]
    },
    {
      "cell_type": "code",
      "metadata": {
        "id": "K6WdCyO0aByj",
        "colab": {
          "base_uri": "https://localhost:8080/",
          "height": 69
        },
        "outputId": "da538092-1aef-49de-95ab-8b77466079f3"
      },
      "source": [
        "list2 = [[0,1,2], [3,4,5], [6,7,8]]\n",
        "arr2 = np.array(list2)\n",
        "print(arr2)"
      ],
      "execution_count": null,
      "outputs": [
        {
          "output_type": "stream",
          "text": [
            "[[0 1 2]\n",
            " [3 4 5]\n",
            " [6 7 8]]\n"
          ],
          "name": "stdout"
        }
      ]
    },
    {
      "cell_type": "code",
      "metadata": {
        "id": "wrIl29jGv2_4",
        "colab": {
          "base_uri": "https://localhost:8080/",
          "height": 69
        },
        "outputId": "3bea71cb-2e8f-4b3c-b03e-0c66e01d266b"
      },
      "source": [
        "# Extract the first 2 rows and columns\n",
        "\n",
        "arr2[:, 0:3]"
      ],
      "execution_count": null,
      "outputs": [
        {
          "output_type": "execute_result",
          "data": {
            "text/plain": [
              "array([[0, 1, 2],\n",
              "       [3, 4, 5],\n",
              "       [6, 7, 8]])"
            ]
          },
          "metadata": {
            "tags": []
          },
          "execution_count": 25
        }
      ]
    },
    {
      "cell_type": "code",
      "metadata": {
        "id": "Cumdmr4nwbFi",
        "colab": {
          "base_uri": "https://localhost:8080/",
          "height": 85
        },
        "outputId": "b7070b96-1d0b-44cd-a770-879c91e9f789"
      },
      "source": [
        "list2 = [[0,1,2], [3,4,5], [6,7,8]]\n",
        "arr2 = np.array(list2)\n",
        "print(arr2)\n",
        "index_gt5 = np.where(arr2 <2 )\n",
        "print(\"Positions where value > 2: \", index_gt5)"
      ],
      "execution_count": null,
      "outputs": [
        {
          "output_type": "stream",
          "text": [
            "[[0 1 2]\n",
            " [3 4 5]\n",
            " [6 7 8]]\n",
            "Positions where value > 2:  (array([0, 0]), array([0, 1]))\n"
          ],
          "name": "stdout"
        }
      ]
    },
    {
      "cell_type": "code",
      "metadata": {
        "id": "Y90vda5Ows4L",
        "colab": {
          "base_uri": "https://localhost:8080/",
          "height": 153
        },
        "outputId": "d6f3136a-b77e-457e-9ee8-1481b4b23df4"
      },
      "source": [
        "#concatenate two numpy arrays columnwise and row wise\n",
        "\n",
        "# Method 1: np.concatenate by changing the axis parameter to 0 and 1\n",
        "# Method 2: np.vstack and np.hstack\n",
        "# Method 3: np.r_ and np.c_\n",
        "a = np.zeros([4, 3])\n",
        "b = np.ones([4, 3])\n",
        "print(a)\n",
        "print(b)\n",
        "\n",
        " \n",
        "#np.vstack([a,b])  \n",
        "#np.r_[a,b]  "
      ],
      "execution_count": null,
      "outputs": [
        {
          "output_type": "stream",
          "text": [
            "[[0. 0. 0.]\n",
            " [0. 0. 0.]\n",
            " [0. 0. 0.]\n",
            " [0. 0. 0.]]\n",
            "[[1. 1. 1.]\n",
            " [1. 1. 1.]\n",
            " [1. 1. 1.]\n",
            " [1. 1. 1.]]\n"
          ],
          "name": "stdout"
        }
      ]
    },
    {
      "cell_type": "code",
      "metadata": {
        "id": "s28d-dcfgzkd",
        "colab": {
          "base_uri": "https://localhost:8080/",
          "height": 85
        },
        "outputId": "15d2eda4-be33-484e-d1ad-03e637f0e40b"
      },
      "source": [
        "# Vertical Stack Equivalents (Row wise)\n",
        "np.concatenate([a, b], axis=1) "
      ],
      "execution_count": null,
      "outputs": [
        {
          "output_type": "execute_result",
          "data": {
            "text/plain": [
              "array([[0., 0., 0., 1., 1., 1.],\n",
              "       [0., 0., 0., 1., 1., 1.],\n",
              "       [0., 0., 0., 1., 1., 1.],\n",
              "       [0., 0., 0., 1., 1., 1.]])"
            ]
          },
          "metadata": {
            "tags": []
          },
          "execution_count": 46
        }
      ]
    },
    {
      "cell_type": "code",
      "metadata": {
        "id": "RJalNla7xE7D",
        "colab": {
          "base_uri": "https://localhost:8080/",
          "height": 87
        },
        "outputId": "d9efaa12-8228-45dc-af0a-31312b045621"
      },
      "source": [
        "# Horizontal Stack Equivalents (Coliumn wise)\n",
        "np.concatenate([a, b], axis=1) \n",
        "#np.hstack([a,b])  \n",
        "#np.c_[a,b]"
      ],
      "execution_count": null,
      "outputs": [
        {
          "output_type": "execute_result",
          "data": {
            "text/plain": [
              "array([[0., 0., 0., 0., 1., 1., 1.],\n",
              "       [0., 0., 0., 0., 1., 1., 1.],\n",
              "       [0., 0., 0., 0., 1., 1., 1.],\n",
              "       [0., 0., 0., 0., 1., 1., 1.]])"
            ]
          },
          "metadata": {
            "tags": []
          },
          "execution_count": 36
        }
      ]
    },
    {
      "cell_type": "code",
      "metadata": {
        "id": "-F7cfgQIxNKS",
        "colab": {
          "base_uri": "https://localhost:8080/",
          "height": 158
        },
        "outputId": "8f21631e-de75-43ca-87e2-fef8f5e02ec0"
      },
      "source": [
        "#Sorting an Array\n",
        "\n",
        "arr = np.random.randint(1,6, size=[8, 4])\n",
        "\n",
        "# Sort each columns of arr\n",
        "np.sort(arr, axis=0)"
      ],
      "execution_count": null,
      "outputs": [
        {
          "output_type": "execute_result",
          "data": {
            "text/plain": [
              "array([[1, 1, 1, 1],\n",
              "       [2, 2, 2, 2],\n",
              "       [2, 3, 4, 2],\n",
              "       [2, 4, 4, 3],\n",
              "       [3, 4, 4, 3],\n",
              "       [3, 4, 4, 5],\n",
              "       [3, 4, 5, 5],\n",
              "       [4, 5, 5, 5]])"
            ]
          },
          "metadata": {
            "tags": []
          },
          "execution_count": 21
        }
      ]
    },
    {
      "cell_type": "code",
      "metadata": {
        "id": "7rMR71Z2xswj",
        "colab": {
          "base_uri": "https://localhost:8080/",
          "height": 70
        },
        "outputId": "ebf38762-8b46-4fdd-ea45-246d52025913"
      },
      "source": [
        "# Create a datetime64 object\n",
        "date64 = np.datetime64('2018-02-04 23:10:10')\n",
        "date64\n",
        "\n",
        "# Create date sequence\n",
        "dates = np.arange(np.datetime64('2018-02-01'), np.datetime64('2018-02-10'))\n",
        "print(dates)\n",
        "\n",
        "# Check if its a business day\n",
        "np.is_busday(dates)"
      ],
      "execution_count": null,
      "outputs": [
        {
          "output_type": "stream",
          "text": [
            "['2018-02-01' '2018-02-02' '2018-02-03' '2018-02-04' '2018-02-05'\n",
            " '2018-02-06' '2018-02-07' '2018-02-08' '2018-02-09']\n"
          ],
          "name": "stdout"
        },
        {
          "output_type": "execute_result",
          "data": {
            "text/plain": [
              "array([ True,  True, False, False,  True,  True,  True,  True,  True])"
            ]
          },
          "metadata": {
            "tags": []
          },
          "execution_count": 22
        }
      ]
    },
    {
      "cell_type": "code",
      "metadata": {
        "id": "jk8HN3B9Kyic"
      },
      "source": [
        "# Reverse the row and column positions\n",
        "arr2[::-1, ::-1]"
      ],
      "execution_count": null,
      "outputs": []
    },
    {
      "cell_type": "code",
      "metadata": {
        "id": "pVzot8jGOloM",
        "colab": {
          "base_uri": "https://localhost:8080/",
          "height": 34
        },
        "outputId": "211e2205-9afb-48c2-df71-70c8c1bd7964"
      },
      "source": [
        "print(np.random.randint(0, 10,4))"
      ],
      "execution_count": null,
      "outputs": [
        {
          "output_type": "stream",
          "text": [
            "[3 0 1 3]\n"
          ],
          "name": "stdout"
        }
      ]
    },
    {
      "cell_type": "code",
      "metadata": {
        "id": "m69fDowqW4PX",
        "colab": {
          "base_uri": "https://localhost:8080/",
          "height": 34
        },
        "outputId": "74ee252a-a54c-4ebb-d696-42fb21e6c220"
      },
      "source": [
        "print(np.random.choice(['a', 'e', 'i', 'o', 'u','a','a'], size=3, p=[0.3, .1, 0.1, 0.2, 0.1,0.1, 0.1]))"
      ],
      "execution_count": null,
      "outputs": [
        {
          "output_type": "stream",
          "text": [
            "['o' 'u' 'e']\n"
          ],
          "name": "stdout"
        }
      ]
    },
    {
      "cell_type": "code",
      "metadata": {
        "id": "MPy4EecPNUnG"
      },
      "source": [
        "def make_pretty(func):\n",
        "    def inner():\n",
        "        print(\"I got decorated\")\n",
        "        func()\n",
        "    return inner\n",
        "\n",
        "def ordinary():\n",
        "    print(\"I am ordinary\")"
      ],
      "execution_count": null,
      "outputs": []
    },
    {
      "cell_type": "code",
      "metadata": {
        "id": "KWXcqpncNcfs"
      },
      "source": [
        "@make_pretty\n",
        "def ordinary():\n",
        "  print(\"I am ordinary\")"
      ],
      "execution_count": null,
      "outputs": []
    },
    {
      "cell_type": "code",
      "metadata": {
        "id": "brtzU2kSNnBX",
        "colab": {
          "base_uri": "https://localhost:8080/",
          "height": 54
        },
        "outputId": "c961a598-d19d-4bee-91e1-dada1fe48c0e"
      },
      "source": [
        "ordinary()"
      ],
      "execution_count": null,
      "outputs": [
        {
          "output_type": "stream",
          "text": [
            "I got decorated\n",
            "I am ordinary\n"
          ],
          "name": "stdout"
        }
      ]
    },
    {
      "cell_type": "code",
      "metadata": {
        "id": "ORCf__5pp8VH",
        "colab": {
          "base_uri": "https://localhost:8080/",
          "height": 35
        },
        "outputId": "fd03890f-b2fe-4181-d6b6-dd0068315c90"
      },
      "source": [
        "adult =list(range(10))\n",
        "print(adult)"
      ],
      "execution_count": null,
      "outputs": [
        {
          "output_type": "stream",
          "text": [
            "[0, 1, 2, 3, 4, 5, 6, 7, 8, 9]\n"
          ],
          "name": "stdout"
        }
      ]
    },
    {
      "cell_type": "code",
      "metadata": {
        "id": "p8ySptrlqD3C"
      },
      "source": [
        ""
      ],
      "execution_count": null,
      "outputs": []
    }
  ]
}